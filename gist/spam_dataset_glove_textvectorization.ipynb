{
 "cells": [
  {
   "cell_type": "code",
   "execution_count": 1,
   "metadata": {},
   "outputs": [],
   "source": [
    "import numpy as np\n",
    "import pandas as pd\n",
    "import tensorflow as tf"
   ]
  },
  {
   "cell_type": "code",
   "execution_count": 2,
   "metadata": {},
   "outputs": [],
   "source": [
    "DATA_PATH = \"../data/\"\n",
    "MODEL_PATH = \"../weights/\""
   ]
  },
  {
   "cell_type": "code",
   "execution_count": 3,
   "metadata": {},
   "outputs": [
    {
     "name": "stdout",
     "output_type": "stream",
     "text": [
      "Number of words are 400000\n",
      "Shape of vector is (400002, 50)\n"
     ]
    }
   ],
   "source": [
    "# Build vocabulary and relevent vector\n",
    "words = []\n",
    "# Adding 2 empty vector of dimension 50 which will be used in padding and unknown token(word)\n",
    "# According to previous knowledge i have idea that it contains 400,000 words\n",
    "# Added extra 2 rows because when we will use inside TextVectorization add blank i.e. '' and ['UNK'] inside vocabulary\n",
    "vectors = np.zeros((400002, 50))\n",
    "\n",
    "with open(f\"{DATA_PATH}glove.6B.50d.txt\") as f:\n",
    "    lines = f.readlines()\n",
    "    \n",
    "    for idx, line in enumerate(lines):\n",
    "        split_line = line.split()\n",
    "        words.append(split_line[0])\n",
    "        vectors[idx+2] = split_line[1:]\n",
    "\n",
    "print(f\"Number of words are {len(words)}\")\n",
    "print(f\"Shape of vector is {vectors.shape}\")"
   ]
  },
  {
   "cell_type": "code",
   "execution_count": 4,
   "metadata": {},
   "outputs": [],
   "source": [
    "# TextVectorization hyper parameter\n",
    "max_vocab = 400002\n",
    "max_len = 16"
   ]
  },
  {
   "cell_type": "code",
   "execution_count": 5,
   "metadata": {},
   "outputs": [
    {
     "name": "stdout",
     "output_type": "stream",
     "text": [
      "['', '[UNK]', 'the', ',', '.', 'of', 'to', 'and', 'in', 'a']\n"
     ]
    }
   ],
   "source": [
    "# Let's do a basic preprocessing inside TextVectorization layer\n",
    "vectorize_layer_glove = tf.keras.layers.experimental.preprocessing.TextVectorization(max_tokens=max_vocab,\n",
    "                                                                               standardize=\"lower_and_strip_punctuation\",\n",
    "                                                                               split=\"whitespace\",\n",
    "                                                                               output_mode=\"int\",\n",
    "                                                                               output_sequence_length=max_len)\n",
    "\n",
    "\n",
    "# Vocabulary set into layer\n",
    "vectorize_layer_glove.set_vocabulary(words)\n",
    "print(vectorize_layer_glove.get_vocabulary()[:10])"
   ]
  },
  {
   "cell_type": "code",
   "execution_count": 6,
   "metadata": {},
   "outputs": [
    {
     "data": {
      "text/plain": [
       "array([[   43,    35,  2370,    61,     2, 37360,  2571, 23623,    12,\n",
       "            1,     0,     0,     0,     0,     0,     0],\n",
       "       [  935,  1123,    16,  5339,     0,     0,     0,     0,     0,\n",
       "            0,     0,     0,     0,     0,     0,     0]])"
      ]
     },
     "execution_count": 6,
     "metadata": {},
     "output_type": "execute_result"
    }
   ],
   "source": [
    "# To see output of the layer let's build small network\n",
    "model_glove = tf.keras.models.Sequential()\n",
    "model_glove.add(tf.keras.layers.Input(shape=(1,), dtype=tf.string))\n",
    "model_glove.add(vectorize_layer_glove)\n",
    "\n",
    "model_glove.predict([[\"i have learn about the byte pair encoding for XLNET\"], [\"data science is everywhere\"]])"
   ]
  },
  {
   "cell_type": "code",
   "execution_count": null,
   "metadata": {},
   "outputs": [],
   "source": []
  }
 ],
 "metadata": {
  "kernelspec": {
   "display_name": "Python 3",
   "language": "python",
   "name": "python3"
  },
  "language_info": {
   "codemirror_mode": {
    "name": "ipython",
    "version": 3
   },
   "file_extension": ".py",
   "mimetype": "text/x-python",
   "name": "python",
   "nbconvert_exporter": "python",
   "pygments_lexer": "ipython3",
   "version": "3.8.5"
  }
 },
 "nbformat": 4,
 "nbformat_minor": 4
}

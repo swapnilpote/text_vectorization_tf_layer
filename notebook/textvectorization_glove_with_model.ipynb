{
 "cells": [
  {
   "cell_type": "code",
   "execution_count": 1,
   "metadata": {},
   "outputs": [
    {
     "data": {
      "text/html": [
       "<style>.container { width:100% !important; }</style>"
      ],
      "text/plain": [
       "<IPython.core.display.HTML object>"
      ]
     },
     "metadata": {},
     "output_type": "display_data"
    }
   ],
   "source": [
    "from IPython.core.display import display, HTML\n",
    "display(HTML(\"<style>.container { width:100% !important; }</style>\"))"
   ]
  },
  {
   "cell_type": "code",
   "execution_count": 2,
   "metadata": {},
   "outputs": [],
   "source": [
    "import os\n",
    "import re\n",
    "import math\n",
    "import time\n",
    "import string\n",
    "import numpy as np\n",
    "import pandas as pd\n",
    "import tensorflow as tf"
   ]
  },
  {
   "cell_type": "code",
   "execution_count": 3,
   "metadata": {},
   "outputs": [],
   "source": [
    "DATA_PATH = \"../data/\"\n",
    "MODEL_PATH = \"../weights/\"\n",
    "SERVING_PATH = \"../servings/\""
   ]
  },
  {
   "cell_type": "code",
   "execution_count": 4,
   "metadata": {},
   "outputs": [
    {
     "data": {
      "text/html": [
       "<div>\n",
       "<style scoped>\n",
       "    .dataframe tbody tr th:only-of-type {\n",
       "        vertical-align: middle;\n",
       "    }\n",
       "\n",
       "    .dataframe tbody tr th {\n",
       "        vertical-align: top;\n",
       "    }\n",
       "\n",
       "    .dataframe thead th {\n",
       "        text-align: right;\n",
       "    }\n",
       "</style>\n",
       "<table border=\"1\" class=\"dataframe\">\n",
       "  <thead>\n",
       "    <tr style=\"text-align: right;\">\n",
       "      <th></th>\n",
       "      <th>category</th>\n",
       "      <th>statement</th>\n",
       "    </tr>\n",
       "  </thead>\n",
       "  <tbody>\n",
       "    <tr>\n",
       "      <th>0</th>\n",
       "      <td>ham</td>\n",
       "      <td>Go until jurong point, crazy.. Available only ...</td>\n",
       "    </tr>\n",
       "    <tr>\n",
       "      <th>1</th>\n",
       "      <td>ham</td>\n",
       "      <td>Ok lar... Joking wif u oni...</td>\n",
       "    </tr>\n",
       "    <tr>\n",
       "      <th>2</th>\n",
       "      <td>spam</td>\n",
       "      <td>Free entry in 2 a wkly comp to win FA Cup fina...</td>\n",
       "    </tr>\n",
       "    <tr>\n",
       "      <th>3</th>\n",
       "      <td>ham</td>\n",
       "      <td>U dun say so early hor... U c already then say...</td>\n",
       "    </tr>\n",
       "    <tr>\n",
       "      <th>4</th>\n",
       "      <td>ham</td>\n",
       "      <td>Nah I don't think he goes to usf, he lives aro...</td>\n",
       "    </tr>\n",
       "  </tbody>\n",
       "</table>\n",
       "</div>"
      ],
      "text/plain": [
       "  category                                          statement\n",
       "0      ham  Go until jurong point, crazy.. Available only ...\n",
       "1      ham                      Ok lar... Joking wif u oni...\n",
       "2     spam  Free entry in 2 a wkly comp to win FA Cup fina...\n",
       "3      ham  U dun say so early hor... U c already then say...\n",
       "4      ham  Nah I don't think he goes to usf, he lives aro..."
      ]
     },
     "execution_count": 4,
     "metadata": {},
     "output_type": "execute_result"
    }
   ],
   "source": [
    "df = pd.read_csv(f\"{DATA_PATH}/smsspam.tsv\", sep=\"\\t\", names=[\"category\", \"statement\"])\n",
    "df.head()"
   ]
  },
  {
   "cell_type": "code",
   "execution_count": 5,
   "metadata": {},
   "outputs": [
    {
     "data": {
      "text/html": [
       "<div>\n",
       "<style scoped>\n",
       "    .dataframe tbody tr th:only-of-type {\n",
       "        vertical-align: middle;\n",
       "    }\n",
       "\n",
       "    .dataframe tbody tr th {\n",
       "        vertical-align: top;\n",
       "    }\n",
       "\n",
       "    .dataframe thead th {\n",
       "        text-align: right;\n",
       "    }\n",
       "</style>\n",
       "<table border=\"1\" class=\"dataframe\">\n",
       "  <thead>\n",
       "    <tr style=\"text-align: right;\">\n",
       "      <th></th>\n",
       "      <th>category</th>\n",
       "      <th>statement</th>\n",
       "    </tr>\n",
       "  </thead>\n",
       "  <tbody>\n",
       "    <tr>\n",
       "      <th>0</th>\n",
       "      <td>0</td>\n",
       "      <td>Go until jurong point, crazy.. Available only ...</td>\n",
       "    </tr>\n",
       "    <tr>\n",
       "      <th>1</th>\n",
       "      <td>0</td>\n",
       "      <td>Ok lar... Joking wif u oni...</td>\n",
       "    </tr>\n",
       "    <tr>\n",
       "      <th>2</th>\n",
       "      <td>1</td>\n",
       "      <td>Free entry in 2 a wkly comp to win FA Cup fina...</td>\n",
       "    </tr>\n",
       "    <tr>\n",
       "      <th>3</th>\n",
       "      <td>0</td>\n",
       "      <td>U dun say so early hor... U c already then say...</td>\n",
       "    </tr>\n",
       "    <tr>\n",
       "      <th>4</th>\n",
       "      <td>0</td>\n",
       "      <td>Nah I don't think he goes to usf, he lives aro...</td>\n",
       "    </tr>\n",
       "  </tbody>\n",
       "</table>\n",
       "</div>"
      ],
      "text/plain": [
       "  category                                          statement\n",
       "0        0  Go until jurong point, crazy.. Available only ...\n",
       "1        0                      Ok lar... Joking wif u oni...\n",
       "2        1  Free entry in 2 a wkly comp to win FA Cup fina...\n",
       "3        0  U dun say so early hor... U c already then say...\n",
       "4        0  Nah I don't think he goes to usf, he lives aro..."
      ]
     },
     "execution_count": 5,
     "metadata": {},
     "output_type": "execute_result"
    }
   ],
   "source": [
    "df.loc[df[\"category\"]==\"ham\", \"category\",] = 0\n",
    "df.loc[df[\"category\"]==\"spam\", \"category\",] = 1\n",
    "\n",
    "df.head()"
   ]
  },
  {
   "cell_type": "code",
   "execution_count": 6,
   "metadata": {},
   "outputs": [
    {
     "name": "stdout",
     "output_type": "stream",
     "text": [
      "Average statement size is 16\n"
     ]
    }
   ],
   "source": [
    "# Calculate average statement size\n",
    "avg_size = sum([len(sta.split()) for sta in df.statement]) / len(df.statement)\n",
    "print(f\"Average statement size is {math.ceil(avg_size)}\")"
   ]
  },
  {
   "cell_type": "code",
   "execution_count": 7,
   "metadata": {},
   "outputs": [
    {
     "name": "stdout",
     "output_type": "stream",
     "text": [
      "['Go until jurong point, crazy.. Available only in bugis n great world la e buffet... Cine there got amore wat...'\n",
      " 'Ok lar... Joking wif u oni...'\n",
      " \"Free entry in 2 a wkly comp to win FA Cup final tkts 21st May 2005. Text FA to 87121 to receive entry question(std txt rate)T&C's apply 08452810075over18's\"]\n",
      "[[1. 0.]\n",
      " [1. 0.]\n",
      " [0. 1.]]\n"
     ]
    }
   ],
   "source": [
    "X = df.statement.values\n",
    "Y = tf.keras.utils.to_categorical(df.category.values)\n",
    "\n",
    "print(X[:3])\n",
    "print(Y[:3])"
   ]
  },
  {
   "cell_type": "code",
   "execution_count": 8,
   "metadata": {},
   "outputs": [],
   "source": [
    "def preprocessing(raw_text):\n",
    "    lower_text = tf.strings.lower(raw_text)\n",
    "    stripped_html = tf.strings.regex_replace(lower_text, \"<br />\", \" \") \n",
    "    \n",
    "    return tf.strings.regex_replace(stripped_html, '[%s]' % re.escape(string.punctuation), ' ')"
   ]
  },
  {
   "cell_type": "code",
   "execution_count": 9,
   "metadata": {},
   "outputs": [],
   "source": [
    "# TextVectorization hyper parameter# TextVectorization hyper parameter\n",
    "max_vocab = 400002\n",
    "max_len = 16"
   ]
  },
  {
   "cell_type": "code",
   "execution_count": 10,
   "metadata": {},
   "outputs": [
    {
     "name": "stdout",
     "output_type": "stream",
     "text": [
      "Number of words are 400000\n",
      "Shape of vector is (400002, 50)\n"
     ]
    }
   ],
   "source": [
    "# Build vocabulary and relevent vector\n",
    "words = []\n",
    "# Adding 2 empty vector of dimension 50 which will be used in padding and unknown token(word)\n",
    "# According to previous knowledge i have idea that it contains 400,000 words\n",
    "# Added extra 2 rows because when we will use inside TextVectorization add blank i.e. '' and ['UNK'] inside vocabulary\n",
    "vectors = np.zeros((400002, 50))\n",
    "\n",
    "with open(f\"{DATA_PATH}glove.6B.50d.txt\") as f:\n",
    "    lines = f.readlines()\n",
    "    \n",
    "    for idx, line in enumerate(lines):\n",
    "        split_line = line.split()\n",
    "        words.append(split_line[0])\n",
    "        vectors[idx+2] = split_line[1:]\n",
    "\n",
    "print(f\"Number of words are {len(words)}\")\n",
    "print(f\"Shape of vector is {vectors.shape}\")"
   ]
  },
  {
   "cell_type": "code",
   "execution_count": 11,
   "metadata": {},
   "outputs": [
    {
     "name": "stdout",
     "output_type": "stream",
     "text": [
      "Top 10 words ['', '[UNK]', 'the', ',', '.', 'of', 'to', 'and', 'in', 'a']\n",
      "Bottom 10 words ['sigarms', 'katuna', 'aqm', '1.3775', 'corythosaurus', 'chanty', 'kronik', 'rolonda', 'zsombor', 'sandberger'] \n",
      "\n",
      "Total words are 400002\n"
     ]
    }
   ],
   "source": [
    "# Let's do a basic preprocessing inside TextVectorization layer\n",
    "vectorize_layer_glove = tf.keras.layers.experimental.preprocessing.TextVectorization(max_tokens=max_vocab,\n",
    "                                                                               standardize=preprocessing,\n",
    "                                                                               split=\"whitespace\",\n",
    "                                                                               output_mode=\"int\",\n",
    "                                                                               output_sequence_length=max_len)\n",
    "\n",
    "\n",
    "# Vocabulary set into layer\n",
    "vectorize_layer_glove.set_vocabulary(words)\n",
    "print(f\"Top 10 words {vectorize_layer_glove.get_vocabulary()[:10]}\")\n",
    "print(f\"Bottom 10 words {vectorize_layer_glove.get_vocabulary()[-10:]} \\n\")\n",
    "\n",
    "# Number of words\n",
    "print(f\"Total words are {len(vectorize_layer_glove.get_vocabulary())}\")"
   ]
  },
  {
   "cell_type": "code",
   "execution_count": 12,
   "metadata": {},
   "outputs": [
    {
     "data": {
      "text/plain": [
       "array([[   43,    35,  2370,    61,     2, 37360,  2571, 23623,    12,\n",
       "            1,     0,     0,     0,     0,     0,     0],\n",
       "       [  935,  1123,    16,  5339,     0,     0,     0,     0,     0,\n",
       "            0,     0,     0,     0,     0,     0,     0]])"
      ]
     },
     "execution_count": 12,
     "metadata": {},
     "output_type": "execute_result"
    }
   ],
   "source": [
    "# To see output of the layer let's build small network\n",
    "model_glove = tf.keras.models.Sequential()\n",
    "model_glove.add(tf.keras.layers.Input(shape=(1,), dtype=tf.string))\n",
    "model_glove.add(vectorize_layer_glove)\n",
    "\n",
    "model_glove.predict([[\"i have learn about the byte pair encoding for XLNET\"], [\"data science is everywhere\"]])"
   ]
  },
  {
   "cell_type": "code",
   "execution_count": 13,
   "metadata": {},
   "outputs": [],
   "source": [
    "model_glove.add(tf.keras.layers.Embedding(max_vocab, 50, weights=[vectors], trainable=False))\n",
    "model_glove.add(tf.keras.layers.LSTM(16))\n",
    "model_glove.add(tf.keras.layers.Dense(2, activation=\"softmax\"))\n",
    "\n",
    "model_glove.compile(loss=\"categorical_crossentropy\", optimizer=\"adam\", metrics=\"accuracy\")"
   ]
  },
  {
   "cell_type": "code",
   "execution_count": 14,
   "metadata": {},
   "outputs": [
    {
     "name": "stdout",
     "output_type": "stream",
     "text": [
      "Epoch 1/10\n",
      "79/79 [==============================] - 1s 18ms/step - loss: 0.4203 - accuracy: 0.8600 - val_loss: 0.2384 - val_accuracy: 0.8889\n",
      "Epoch 2/10\n",
      "79/79 [==============================] - 1s 13ms/step - loss: 0.1720 - accuracy: 0.9390 - val_loss: 0.1172 - val_accuracy: 0.9588\n",
      "Epoch 3/10\n",
      "79/79 [==============================] - 1s 14ms/step - loss: 0.1305 - accuracy: 0.9551 - val_loss: 0.1019 - val_accuracy: 0.9642\n",
      "Epoch 4/10\n",
      "79/79 [==============================] - 1s 13ms/step - loss: 0.1140 - accuracy: 0.9595 - val_loss: 0.1006 - val_accuracy: 0.9606\n",
      "Epoch 5/10\n",
      "79/79 [==============================] - 1s 14ms/step - loss: 0.1050 - accuracy: 0.9633 - val_loss: 0.0854 - val_accuracy: 0.9588\n",
      "Epoch 6/10\n",
      "79/79 [==============================] - 1s 12ms/step - loss: 0.0951 - accuracy: 0.9685 - val_loss: 0.0798 - val_accuracy: 0.9713\n",
      "Epoch 7/10\n",
      "79/79 [==============================] - 1s 13ms/step - loss: 0.0875 - accuracy: 0.9691 - val_loss: 0.0759 - val_accuracy: 0.9749\n",
      "Epoch 8/10\n",
      "79/79 [==============================] - 1s 14ms/step - loss: 0.0819 - accuracy: 0.9703 - val_loss: 0.0715 - val_accuracy: 0.9677\n",
      "Epoch 9/10\n",
      "79/79 [==============================] - 1s 12ms/step - loss: 0.0739 - accuracy: 0.9735 - val_loss: 0.0662 - val_accuracy: 0.9767\n",
      "Epoch 10/10\n",
      "79/79 [==============================] - 1s 11ms/step - loss: 0.0687 - accuracy: 0.9743 - val_loss: 0.0600 - val_accuracy: 0.9767\n"
     ]
    },
    {
     "data": {
      "text/plain": [
       "<tensorflow.python.keras.callbacks.History at 0x7fdd6842b070>"
      ]
     },
     "execution_count": 14,
     "metadata": {},
     "output_type": "execute_result"
    }
   ],
   "source": [
    "model_glove.fit(X, Y, epochs=10, batch_size=64, validation_split=0.1)"
   ]
  },
  {
   "cell_type": "code",
   "execution_count": 15,
   "metadata": {},
   "outputs": [
    {
     "data": {
      "text/plain": [
       "array([[0.30511713, 0.69488287]], dtype=float32)"
      ]
     },
     "execution_count": 15,
     "metadata": {},
     "output_type": "execute_result"
    }
   ],
   "source": [
    "prediction = model_glove.predict([[\"free entry for 2 people in next FIFA match\"]])\n",
    "prediction"
   ]
  },
  {
   "cell_type": "markdown",
   "metadata": {},
   "source": [
    "As we have assigned value 0 to \"ham\" that means not spam and value 1 to \"spam\". So if we perform argmax on prediction variable we will get 1 as value that means \"spam\""
   ]
  }
 ],
 "metadata": {
  "kernelspec": {
   "display_name": "Python 3",
   "language": "python",
   "name": "python3"
  },
  "language_info": {
   "codemirror_mode": {
    "name": "ipython",
    "version": 3
   },
   "file_extension": ".py",
   "mimetype": "text/x-python",
   "name": "python",
   "nbconvert_exporter": "python",
   "pygments_lexer": "ipython3",
   "version": "3.8.5"
  }
 },
 "nbformat": 4,
 "nbformat_minor": 4
}

{
 "cells": [
  {
   "cell_type": "code",
   "execution_count": 1,
   "metadata": {},
   "outputs": [
    {
     "data": {
      "text/html": [
       "<style>.container { width:100% !important; }</style>"
      ],
      "text/plain": [
       "<IPython.core.display.HTML object>"
      ]
     },
     "metadata": {},
     "output_type": "display_data"
    }
   ],
   "source": [
    "from IPython.core.display import display, HTML\n",
    "display(HTML(\"<style>.container { width:100% !important; }</style>\"))"
   ]
  },
  {
   "cell_type": "code",
   "execution_count": 2,
   "metadata": {},
   "outputs": [],
   "source": [
    "import os\n",
    "import re\n",
    "import math\n",
    "import time\n",
    "import string\n",
    "import numpy as np\n",
    "import pandas as pd\n",
    "import tensorflow as tf"
   ]
  },
  {
   "cell_type": "code",
   "execution_count": 3,
   "metadata": {},
   "outputs": [],
   "source": [
    "DATA_PATH = \"../data/\"\n",
    "MODEL_PATH = \"../weights/\"\n",
    "SERVING_PATH = \"../servings/\""
   ]
  },
  {
   "cell_type": "code",
   "execution_count": 4,
   "metadata": {},
   "outputs": [
    {
     "data": {
      "text/html": [
       "<div>\n",
       "<style scoped>\n",
       "    .dataframe tbody tr th:only-of-type {\n",
       "        vertical-align: middle;\n",
       "    }\n",
       "\n",
       "    .dataframe tbody tr th {\n",
       "        vertical-align: top;\n",
       "    }\n",
       "\n",
       "    .dataframe thead th {\n",
       "        text-align: right;\n",
       "    }\n",
       "</style>\n",
       "<table border=\"1\" class=\"dataframe\">\n",
       "  <thead>\n",
       "    <tr style=\"text-align: right;\">\n",
       "      <th></th>\n",
       "      <th>category</th>\n",
       "      <th>statement</th>\n",
       "    </tr>\n",
       "  </thead>\n",
       "  <tbody>\n",
       "    <tr>\n",
       "      <th>0</th>\n",
       "      <td>ham</td>\n",
       "      <td>Go until jurong point, crazy.. Available only ...</td>\n",
       "    </tr>\n",
       "    <tr>\n",
       "      <th>1</th>\n",
       "      <td>ham</td>\n",
       "      <td>Ok lar... Joking wif u oni...</td>\n",
       "    </tr>\n",
       "    <tr>\n",
       "      <th>2</th>\n",
       "      <td>spam</td>\n",
       "      <td>Free entry in 2 a wkly comp to win FA Cup fina...</td>\n",
       "    </tr>\n",
       "    <tr>\n",
       "      <th>3</th>\n",
       "      <td>ham</td>\n",
       "      <td>U dun say so early hor... U c already then say...</td>\n",
       "    </tr>\n",
       "    <tr>\n",
       "      <th>4</th>\n",
       "      <td>ham</td>\n",
       "      <td>Nah I don't think he goes to usf, he lives aro...</td>\n",
       "    </tr>\n",
       "  </tbody>\n",
       "</table>\n",
       "</div>"
      ],
      "text/plain": [
       "  category                                          statement\n",
       "0      ham  Go until jurong point, crazy.. Available only ...\n",
       "1      ham                      Ok lar... Joking wif u oni...\n",
       "2     spam  Free entry in 2 a wkly comp to win FA Cup fina...\n",
       "3      ham  U dun say so early hor... U c already then say...\n",
       "4      ham  Nah I don't think he goes to usf, he lives aro..."
      ]
     },
     "execution_count": 4,
     "metadata": {},
     "output_type": "execute_result"
    }
   ],
   "source": [
    "df = pd.read_csv(f\"{DATA_PATH}/smsspam.tsv\", sep=\"\\t\", names=[\"category\", \"statement\"])\n",
    "df.head()"
   ]
  },
  {
   "cell_type": "code",
   "execution_count": 5,
   "metadata": {},
   "outputs": [
    {
     "data": {
      "text/html": [
       "<div>\n",
       "<style scoped>\n",
       "    .dataframe tbody tr th:only-of-type {\n",
       "        vertical-align: middle;\n",
       "    }\n",
       "\n",
       "    .dataframe tbody tr th {\n",
       "        vertical-align: top;\n",
       "    }\n",
       "\n",
       "    .dataframe thead th {\n",
       "        text-align: right;\n",
       "    }\n",
       "</style>\n",
       "<table border=\"1\" class=\"dataframe\">\n",
       "  <thead>\n",
       "    <tr style=\"text-align: right;\">\n",
       "      <th></th>\n",
       "      <th>category</th>\n",
       "      <th>statement</th>\n",
       "    </tr>\n",
       "  </thead>\n",
       "  <tbody>\n",
       "    <tr>\n",
       "      <th>0</th>\n",
       "      <td>0</td>\n",
       "      <td>Go until jurong point, crazy.. Available only ...</td>\n",
       "    </tr>\n",
       "    <tr>\n",
       "      <th>1</th>\n",
       "      <td>0</td>\n",
       "      <td>Ok lar... Joking wif u oni...</td>\n",
       "    </tr>\n",
       "    <tr>\n",
       "      <th>2</th>\n",
       "      <td>1</td>\n",
       "      <td>Free entry in 2 a wkly comp to win FA Cup fina...</td>\n",
       "    </tr>\n",
       "    <tr>\n",
       "      <th>3</th>\n",
       "      <td>0</td>\n",
       "      <td>U dun say so early hor... U c already then say...</td>\n",
       "    </tr>\n",
       "    <tr>\n",
       "      <th>4</th>\n",
       "      <td>0</td>\n",
       "      <td>Nah I don't think he goes to usf, he lives aro...</td>\n",
       "    </tr>\n",
       "  </tbody>\n",
       "</table>\n",
       "</div>"
      ],
      "text/plain": [
       "  category                                          statement\n",
       "0        0  Go until jurong point, crazy.. Available only ...\n",
       "1        0                      Ok lar... Joking wif u oni...\n",
       "2        1  Free entry in 2 a wkly comp to win FA Cup fina...\n",
       "3        0  U dun say so early hor... U c already then say...\n",
       "4        0  Nah I don't think he goes to usf, he lives aro..."
      ]
     },
     "execution_count": 5,
     "metadata": {},
     "output_type": "execute_result"
    }
   ],
   "source": [
    "df.loc[df[\"category\"]==\"ham\", \"category\",] = 0\n",
    "df.loc[df[\"category\"]==\"spam\", \"category\",] = 1\n",
    "\n",
    "df.head()"
   ]
  },
  {
   "cell_type": "code",
   "execution_count": 6,
   "metadata": {},
   "outputs": [
    {
     "name": "stdout",
     "output_type": "stream",
     "text": [
      "Average statement size is 16\n"
     ]
    }
   ],
   "source": [
    "# Calculate average statement size\n",
    "avg_size = sum([len(sta.split()) for sta in df.statement]) / len(df.statement)\n",
    "print(f\"Average statement size is {math.ceil(avg_size)}\")"
   ]
  },
  {
   "cell_type": "code",
   "execution_count": 7,
   "metadata": {},
   "outputs": [
    {
     "name": "stdout",
     "output_type": "stream",
     "text": [
      "['Go until jurong point, crazy.. Available only in bugis n great world la e buffet... Cine there got amore wat...'\n",
      " 'Ok lar... Joking wif u oni...'\n",
      " \"Free entry in 2 a wkly comp to win FA Cup final tkts 21st May 2005. Text FA to 87121 to receive entry question(std txt rate)T&C's apply 08452810075over18's\"]\n",
      "[[1. 0.]\n",
      " [1. 0.]\n",
      " [0. 1.]]\n"
     ]
    }
   ],
   "source": [
    "X = df.statement.values\n",
    "Y = tf.keras.utils.to_categorical(df.category.values)\n",
    "\n",
    "print(X[:3])\n",
    "print(Y[:3])"
   ]
  },
  {
   "cell_type": "code",
   "execution_count": 8,
   "metadata": {},
   "outputs": [],
   "source": [
    "def preprocessing(raw_text):\n",
    "    lower_text = tf.strings.lower(raw_text)\n",
    "    stripped_html = tf.strings.regex_replace(lower_text, \"<br />\", \" \") \n",
    "    \n",
    "    return tf.strings.regex_replace(stripped_html, '[%s]' % re.escape(string.punctuation), ' ')"
   ]
  },
  {
   "cell_type": "code",
   "execution_count": 9,
   "metadata": {},
   "outputs": [],
   "source": [
    "# TextVectorization hyper parameter\n",
    "text_dataset = df.statement.values\n",
    "max_vocab = 5000\n",
    "max_len = 16"
   ]
  },
  {
   "cell_type": "code",
   "execution_count": 10,
   "metadata": {},
   "outputs": [
    {
     "name": "stdout",
     "output_type": "stream",
     "text": [
      "Top 10 words ['', '[UNK]', 'i', 'to', 'you', 'a', 'the', 'u', 'and', 'in']\n",
      "Bottom 10 words ['sympathetic', 'syllabus', 'syd', 'swollen', 'swimsuit', 'swhrt', 'swell', 'sweatter', 'sweater', 'swear'] \n",
      "\n",
      "Total words are 5000\n"
     ]
    }
   ],
   "source": [
    "# Let's do a basic preprocessing inside TextVectorization layer\n",
    "vectorize_layer = tf.keras.layers.experimental.preprocessing.TextVectorization(max_tokens=max_vocab,\n",
    "                                                                               standardize=preprocessing,\n",
    "                                                                               split=\"whitespace\",\n",
    "                                                                               output_mode=\"int\",\n",
    "                                                                               output_sequence_length=max_len)\n",
    "\n",
    "# Now to time consume these text_dataset to generate vocab and it's mapping\n",
    "vectorize_layer.adapt(text_dataset)\n",
    "\n",
    "# Vocabulary generated by layer\n",
    "print(f\"Top 10 words {vectorize_layer.get_vocabulary()[:10]}\")\n",
    "print(f\"Bottom 10 words {vectorize_layer.get_vocabulary()[-10:]} \\n\")\n",
    "\n",
    "# Number of words\n",
    "print(f\"Total words are {len(vectorize_layer.get_vocabulary())}\")"
   ]
  },
  {
   "cell_type": "code",
   "execution_count": 11,
   "metadata": {},
   "outputs": [
    {
     "data": {
      "text/plain": [
       "array([[   2,   18, 1392,   84,    6,    1,    1,    1,    0,    0,    0,\n",
       "           0,    0,    0,    0,    0],\n",
       "       [   1, 2455,   10, 3838,    0,    0,    0,    0,    0,    0,    0,\n",
       "           0,    0,    0,    0,    0]])"
      ]
     },
     "execution_count": 11,
     "metadata": {},
     "output_type": "execute_result"
    }
   ],
   "source": [
    "# To see output of the layer let's build small network\n",
    "model_custom = tf.keras.models.Sequential()\n",
    "model_custom.add(tf.keras.layers.Input(shape=(1,), dtype=tf.string))\n",
    "model_custom.add(vectorize_layer)\n",
    "\n",
    "model_custom.predict([[\"i have learn about the byte pair encoding\"], [\"data science is everywhere\"]])"
   ]
  },
  {
   "cell_type": "code",
   "execution_count": 12,
   "metadata": {},
   "outputs": [],
   "source": [
    "model_custom.add(tf.keras.layers.Embedding(max_vocab, 50))\n",
    "model_custom.add(tf.keras.layers.LSTM(16))\n",
    "model_custom.add(tf.keras.layers.Dense(2, activation=\"softmax\"))\n",
    "\n",
    "model_custom.compile(loss=\"categorical_crossentropy\", optimizer=\"adam\", metrics=\"accuracy\")"
   ]
  },
  {
   "cell_type": "code",
   "execution_count": 13,
   "metadata": {},
   "outputs": [
    {
     "name": "stdout",
     "output_type": "stream",
     "text": [
      "Epoch 1/10\n",
      "79/79 [==============================] - 2s 21ms/step - loss: 0.3608 - accuracy: 0.8628 - val_loss: 0.1269 - val_accuracy: 0.9731\n",
      "Epoch 2/10\n",
      "79/79 [==============================] - 1s 15ms/step - loss: 0.0990 - accuracy: 0.9809 - val_loss: 0.0651 - val_accuracy: 0.9857\n",
      "Epoch 3/10\n",
      "79/79 [==============================] - 1s 15ms/step - loss: 0.0473 - accuracy: 0.9918 - val_loss: 0.0434 - val_accuracy: 0.9928\n",
      "Epoch 4/10\n",
      "79/79 [==============================] - 1s 16ms/step - loss: 0.0282 - accuracy: 0.9958 - val_loss: 0.0407 - val_accuracy: 0.9910\n",
      "Epoch 5/10\n",
      "79/79 [==============================] - 1s 14ms/step - loss: 0.0178 - accuracy: 0.9972 - val_loss: 0.0358 - val_accuracy: 0.9928\n",
      "Epoch 6/10\n",
      "79/79 [==============================] - 1s 14ms/step - loss: 0.0129 - accuracy: 0.9982 - val_loss: 0.0382 - val_accuracy: 0.9910\n",
      "Epoch 7/10\n",
      "79/79 [==============================] - 1s 14ms/step - loss: 0.0081 - accuracy: 0.9990 - val_loss: 0.0442 - val_accuracy: 0.9892\n",
      "Epoch 8/10\n",
      "79/79 [==============================] - 1s 14ms/step - loss: 0.0063 - accuracy: 0.9990 - val_loss: 0.0535 - val_accuracy: 0.9875\n",
      "Epoch 9/10\n",
      "79/79 [==============================] - 1s 15ms/step - loss: 0.0057 - accuracy: 0.9990 - val_loss: 0.0530 - val_accuracy: 0.9892\n",
      "Epoch 10/10\n",
      "79/79 [==============================] - 1s 13ms/step - loss: 0.0036 - accuracy: 0.9994 - val_loss: 0.0592 - val_accuracy: 0.9892\n"
     ]
    },
    {
     "data": {
      "text/plain": [
       "<tensorflow.python.keras.callbacks.History at 0x7ff75c70a4f0>"
      ]
     },
     "execution_count": 13,
     "metadata": {},
     "output_type": "execute_result"
    }
   ],
   "source": [
    "model_custom.fit(X, Y, epochs=10, batch_size=64, validation_split=0.1)"
   ]
  },
  {
   "cell_type": "code",
   "execution_count": 14,
   "metadata": {},
   "outputs": [
    {
     "data": {
      "text/plain": [
       "array([[0.00287533, 0.9971246 ]], dtype=float32)"
      ]
     },
     "execution_count": 14,
     "metadata": {},
     "output_type": "execute_result"
    }
   ],
   "source": [
    "prediction = model_custom.predict([[\"free entry for 2 people in next FIFA match\"]])\n",
    "prediction"
   ]
  },
  {
   "cell_type": "markdown",
   "metadata": {},
   "source": [
    "As we have assigned value 0 to \"ham\" that means not spam and value 1 to \"spam\". So if we perform argmax on prediction variable we will get 1 as value that means \"spam\""
   ]
  }
 ],
 "metadata": {
  "kernelspec": {
   "display_name": "Python 3",
   "language": "python",
   "name": "python3"
  },
  "language_info": {
   "codemirror_mode": {
    "name": "ipython",
    "version": 3
   },
   "file_extension": ".py",
   "mimetype": "text/x-python",
   "name": "python",
   "nbconvert_exporter": "python",
   "pygments_lexer": "ipython3",
   "version": "3.8.5"
  }
 },
 "nbformat": 4,
 "nbformat_minor": 4
}
